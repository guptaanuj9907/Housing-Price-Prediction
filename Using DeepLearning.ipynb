{
 "cells": [
  {
   "cell_type": "code",
   "execution_count": 1,
   "metadata": {},
   "outputs": [
    {
     "name": "stderr",
     "output_type": "stream",
     "text": [
      "c:\\users\\cg-dte\\appdata\\local\\programs\\python\\python37\\lib\\site-packages\\tensorboard\\compat\\tensorflow_stub\\dtypes.py:541: FutureWarning: Passing (type, 1) or '1type' as a synonym of type is deprecated; in a future version of numpy, it will be understood as (type, (1,)) / '(1,)type'.\n",
      "  _np_qint8 = np.dtype([(\"qint8\", np.int8, 1)])\n",
      "c:\\users\\cg-dte\\appdata\\local\\programs\\python\\python37\\lib\\site-packages\\tensorboard\\compat\\tensorflow_stub\\dtypes.py:542: FutureWarning: Passing (type, 1) or '1type' as a synonym of type is deprecated; in a future version of numpy, it will be understood as (type, (1,)) / '(1,)type'.\n",
      "  _np_quint8 = np.dtype([(\"quint8\", np.uint8, 1)])\n",
      "c:\\users\\cg-dte\\appdata\\local\\programs\\python\\python37\\lib\\site-packages\\tensorboard\\compat\\tensorflow_stub\\dtypes.py:543: FutureWarning: Passing (type, 1) or '1type' as a synonym of type is deprecated; in a future version of numpy, it will be understood as (type, (1,)) / '(1,)type'.\n",
      "  _np_qint16 = np.dtype([(\"qint16\", np.int16, 1)])\n",
      "c:\\users\\cg-dte\\appdata\\local\\programs\\python\\python37\\lib\\site-packages\\tensorboard\\compat\\tensorflow_stub\\dtypes.py:544: FutureWarning: Passing (type, 1) or '1type' as a synonym of type is deprecated; in a future version of numpy, it will be understood as (type, (1,)) / '(1,)type'.\n",
      "  _np_quint16 = np.dtype([(\"quint16\", np.uint16, 1)])\n",
      "c:\\users\\cg-dte\\appdata\\local\\programs\\python\\python37\\lib\\site-packages\\tensorboard\\compat\\tensorflow_stub\\dtypes.py:545: FutureWarning: Passing (type, 1) or '1type' as a synonym of type is deprecated; in a future version of numpy, it will be understood as (type, (1,)) / '(1,)type'.\n",
      "  _np_qint32 = np.dtype([(\"qint32\", np.int32, 1)])\n",
      "c:\\users\\cg-dte\\appdata\\local\\programs\\python\\python37\\lib\\site-packages\\tensorboard\\compat\\tensorflow_stub\\dtypes.py:550: FutureWarning: Passing (type, 1) or '1type' as a synonym of type is deprecated; in a future version of numpy, it will be understood as (type, (1,)) / '(1,)type'.\n",
      "  np_resource = np.dtype([(\"resource\", np.ubyte, 1)])\n"
     ]
    }
   ],
   "source": [
    "from tensorflow import keras "
   ]
  },
  {
   "cell_type": "code",
   "execution_count": 2,
   "metadata": {},
   "outputs": [],
   "source": [
    "import numpy as np\n",
    "import pandas as pd"
   ]
  },
  {
   "cell_type": "code",
   "execution_count": 3,
   "metadata": {},
   "outputs": [],
   "source": [
    "house_train=pd.read_csv(\"train.csv\")"
   ]
  },
  {
   "cell_type": "code",
   "execution_count": 4,
   "metadata": {},
   "outputs": [
    {
     "data": {
      "text/plain": [
       "43"
      ]
     },
     "execution_count": 4,
     "metadata": {},
     "output_type": "execute_result"
    }
   ],
   "source": [
    "numerical_fea=[fea for fea in house_train.columns if house_train[fea].dtype!='O']\n",
    "len(numerical_fea)\n",
    "categorical_feature=[fea for fea in house_train.columns if house_train[fea].dtype=='O']\n",
    "len(categorical_feature)"
   ]
  },
  {
   "cell_type": "code",
   "execution_count": 5,
   "metadata": {},
   "outputs": [
    {
     "data": {
      "text/plain": [
       "['LotFrontage', 'MasVnrArea', 'GarageYrBlt']"
      ]
     },
     "execution_count": 5,
     "metadata": {},
     "output_type": "execute_result"
    }
   ],
   "source": [
    "numerical_fea_null=[fea for fea in numerical_fea if house_train[fea].isnull().sum()>1]\n",
    "numerical_fea_null"
   ]
  },
  {
   "cell_type": "code",
   "execution_count": 6,
   "metadata": {},
   "outputs": [
    {
     "name": "stdout",
     "output_type": "stream",
     "text": [
      "LotFrontage : 259\n",
      "MasVnrArea : 8\n",
      "GarageYrBlt : 81\n"
     ]
    }
   ],
   "source": [
    "for fea in numerical_fea_null:\n",
    "    print(fea,\":\",house_train[fea].isnull().sum())"
   ]
  },
  {
   "cell_type": "code",
   "execution_count": 7,
   "metadata": {},
   "outputs": [
    {
     "data": {
      "text/plain": [
       "['Alley',\n",
       " 'MasVnrType',\n",
       " 'BsmtQual',\n",
       " 'BsmtCond',\n",
       " 'BsmtExposure',\n",
       " 'BsmtFinType1',\n",
       " 'BsmtFinType2',\n",
       " 'FireplaceQu',\n",
       " 'GarageType',\n",
       " 'GarageFinish',\n",
       " 'GarageQual',\n",
       " 'GarageCond',\n",
       " 'PoolQC',\n",
       " 'Fence',\n",
       " 'MiscFeature']"
      ]
     },
     "execution_count": 7,
     "metadata": {},
     "output_type": "execute_result"
    }
   ],
   "source": [
    "categorical_fea_null=[fea for fea in categorical_feature if house_train[fea].isnull().sum()>1]\n",
    "categorical_fea_null"
   ]
  },
  {
   "cell_type": "code",
   "execution_count": 8,
   "metadata": {},
   "outputs": [
    {
     "name": "stdout",
     "output_type": "stream",
     "text": [
      "Alley : 1369\n",
      "MasVnrType : 8\n",
      "BsmtQual : 37\n",
      "BsmtCond : 37\n",
      "BsmtExposure : 38\n",
      "BsmtFinType1 : 37\n",
      "BsmtFinType2 : 38\n",
      "FireplaceQu : 690\n",
      "GarageType : 81\n",
      "GarageFinish : 81\n",
      "GarageQual : 81\n",
      "GarageCond : 81\n",
      "PoolQC : 1453\n",
      "Fence : 1179\n",
      "MiscFeature : 1406\n"
     ]
    }
   ],
   "source": [
    "for fea in categorical_fea_null:\n",
    "    print(fea,\":\",house_train[fea].isnull().sum())"
   ]
  },
  {
   "cell_type": "code",
   "execution_count": 9,
   "metadata": {},
   "outputs": [
    {
     "data": {
      "text/plain": [
       "(1460, 77)"
      ]
     },
     "execution_count": 9,
     "metadata": {},
     "output_type": "execute_result"
    }
   ],
   "source": [
    "house_train.drop(['Alley','PoolQC','Fence','MiscFeature'],axis=1,inplace=True)\n",
    "house_train.shape"
   ]
  },
  {
   "cell_type": "code",
   "execution_count": 10,
   "metadata": {},
   "outputs": [
    {
     "name": "stdout",
     "output_type": "stream",
     "text": [
      "LotFrontage : 259\n",
      "MasVnrArea : 8\n",
      "GarageYrBlt : 81\n"
     ]
    }
   ],
   "source": [
    "for fea in numerical_fea_null:\n",
    "    print(fea,\":\",house_train[fea].isnull().sum())"
   ]
  },
  {
   "cell_type": "code",
   "execution_count": 11,
   "metadata": {},
   "outputs": [],
   "source": [
    "median=house_train['LotFrontage'].median()\n",
    "house_train['LotFrontage']=house_train['LotFrontage'].fillna(median)\n",
    "median1=house_train['MasVnrArea'].median()\n",
    "house_train['MasVnrArea']=house_train['MasVnrArea'].fillna(median1)\n",
    "mean=house_train['GarageYrBlt'].mean()\n",
    "house_train['GarageYrBlt']=house_train['GarageYrBlt'].fillna(mean)"
   ]
  },
  {
   "cell_type": "code",
   "execution_count": 12,
   "metadata": {},
   "outputs": [
    {
     "name": "stdout",
     "output_type": "stream",
     "text": [
      "LotFrontage : 0\n",
      "MasVnrArea : 0\n",
      "GarageYrBlt : 0\n"
     ]
    }
   ],
   "source": [
    "for fea in numerical_fea_null:\n",
    "    print(fea,\":\",house_train[fea].isnull().sum())"
   ]
  },
  {
   "cell_type": "code",
   "execution_count": 13,
   "metadata": {},
   "outputs": [
    {
     "name": "stdout",
     "output_type": "stream",
     "text": [
      "MasVnrType : 8\n",
      "BsmtQual : 37\n",
      "BsmtCond : 37\n",
      "BsmtExposure : 38\n",
      "BsmtFinType1 : 37\n",
      "BsmtFinType2 : 38\n",
      "FireplaceQu : 690\n",
      "GarageType : 81\n",
      "GarageFinish : 81\n",
      "GarageQual : 81\n",
      "GarageCond : 81\n"
     ]
    }
   ],
   "source": [
    "categorical_feature=[fea for fea in house_train.columns if house_train[fea].dtype=='O']\n",
    "len(categorical_feature)\n",
    "categorical_fea_null=[fea for fea in categorical_feature if house_train[fea].isnull().sum()>1]\n",
    "categorical_fea_null\n",
    "for fea in categorical_fea_null:\n",
    "    print(fea,\":\",house_train[fea].isnull().sum())"
   ]
  },
  {
   "cell_type": "code",
   "execution_count": 14,
   "metadata": {},
   "outputs": [],
   "source": [
    "for fea in categorical_fea_null:\n",
    "    mode=house_train[fea].mode()[0]\n",
    "    house_train[fea]=house_train[fea].fillna(mode)"
   ]
  },
  {
   "cell_type": "code",
   "execution_count": 15,
   "metadata": {},
   "outputs": [
    {
     "name": "stdout",
     "output_type": "stream",
     "text": [
      "MasVnrType : 0\n",
      "BsmtQual : 0\n",
      "BsmtCond : 0\n",
      "BsmtExposure : 0\n",
      "BsmtFinType1 : 0\n",
      "BsmtFinType2 : 0\n",
      "FireplaceQu : 0\n",
      "GarageType : 0\n",
      "GarageFinish : 0\n",
      "GarageQual : 0\n",
      "GarageCond : 0\n"
     ]
    }
   ],
   "source": [
    "for fea in categorical_fea_null:\n",
    "    print(fea,\":\",house_train[fea].isnull().sum())"
   ]
  },
  {
   "cell_type": "code",
   "execution_count": 16,
   "metadata": {},
   "outputs": [],
   "source": [
    "house_train.dropna(axis=0,inplace=True)"
   ]
  },
  {
   "cell_type": "code",
   "execution_count": 17,
   "metadata": {},
   "outputs": [
    {
     "data": {
      "text/plain": [
       "(1459, 77)"
      ]
     },
     "execution_count": 17,
     "metadata": {},
     "output_type": "execute_result"
    }
   ],
   "source": [
    "list(house_train.isnull().sum())\n",
    "house_train.shape"
   ]
  },
  {
   "cell_type": "code",
   "execution_count": 18,
   "metadata": {},
   "outputs": [
    {
     "data": {
      "text/html": [
       "<div>\n",
       "<style scoped>\n",
       "    .dataframe tbody tr th:only-of-type {\n",
       "        vertical-align: middle;\n",
       "    }\n",
       "\n",
       "    .dataframe tbody tr th {\n",
       "        vertical-align: top;\n",
       "    }\n",
       "\n",
       "    .dataframe thead th {\n",
       "        text-align: right;\n",
       "    }\n",
       "</style>\n",
       "<table border=\"1\" class=\"dataframe\">\n",
       "  <thead>\n",
       "    <tr style=\"text-align: right;\">\n",
       "      <th></th>\n",
       "      <th>Id</th>\n",
       "      <th>MSSubClass</th>\n",
       "      <th>MSZoning</th>\n",
       "      <th>LotFrontage</th>\n",
       "      <th>LotArea</th>\n",
       "      <th>Street</th>\n",
       "      <th>LotShape</th>\n",
       "      <th>LandContour</th>\n",
       "      <th>Utilities</th>\n",
       "      <th>LotConfig</th>\n",
       "      <th>...</th>\n",
       "      <th>EnclosedPorch</th>\n",
       "      <th>3SsnPorch</th>\n",
       "      <th>ScreenPorch</th>\n",
       "      <th>PoolArea</th>\n",
       "      <th>MiscVal</th>\n",
       "      <th>MoSold</th>\n",
       "      <th>YrSold</th>\n",
       "      <th>SaleType</th>\n",
       "      <th>SaleCondition</th>\n",
       "      <th>SalePrice</th>\n",
       "    </tr>\n",
       "  </thead>\n",
       "  <tbody>\n",
       "    <tr>\n",
       "      <th>0</th>\n",
       "      <td>1</td>\n",
       "      <td>60</td>\n",
       "      <td>RL</td>\n",
       "      <td>65.0</td>\n",
       "      <td>8450</td>\n",
       "      <td>Pave</td>\n",
       "      <td>Reg</td>\n",
       "      <td>Lvl</td>\n",
       "      <td>AllPub</td>\n",
       "      <td>Inside</td>\n",
       "      <td>...</td>\n",
       "      <td>0</td>\n",
       "      <td>0</td>\n",
       "      <td>0</td>\n",
       "      <td>0</td>\n",
       "      <td>0</td>\n",
       "      <td>2</td>\n",
       "      <td>2008</td>\n",
       "      <td>WD</td>\n",
       "      <td>Normal</td>\n",
       "      <td>208500</td>\n",
       "    </tr>\n",
       "    <tr>\n",
       "      <th>1</th>\n",
       "      <td>2</td>\n",
       "      <td>20</td>\n",
       "      <td>RL</td>\n",
       "      <td>80.0</td>\n",
       "      <td>9600</td>\n",
       "      <td>Pave</td>\n",
       "      <td>Reg</td>\n",
       "      <td>Lvl</td>\n",
       "      <td>AllPub</td>\n",
       "      <td>FR2</td>\n",
       "      <td>...</td>\n",
       "      <td>0</td>\n",
       "      <td>0</td>\n",
       "      <td>0</td>\n",
       "      <td>0</td>\n",
       "      <td>0</td>\n",
       "      <td>5</td>\n",
       "      <td>2007</td>\n",
       "      <td>WD</td>\n",
       "      <td>Normal</td>\n",
       "      <td>181500</td>\n",
       "    </tr>\n",
       "    <tr>\n",
       "      <th>2</th>\n",
       "      <td>3</td>\n",
       "      <td>60</td>\n",
       "      <td>RL</td>\n",
       "      <td>68.0</td>\n",
       "      <td>11250</td>\n",
       "      <td>Pave</td>\n",
       "      <td>IR1</td>\n",
       "      <td>Lvl</td>\n",
       "      <td>AllPub</td>\n",
       "      <td>Inside</td>\n",
       "      <td>...</td>\n",
       "      <td>0</td>\n",
       "      <td>0</td>\n",
       "      <td>0</td>\n",
       "      <td>0</td>\n",
       "      <td>0</td>\n",
       "      <td>9</td>\n",
       "      <td>2008</td>\n",
       "      <td>WD</td>\n",
       "      <td>Normal</td>\n",
       "      <td>223500</td>\n",
       "    </tr>\n",
       "    <tr>\n",
       "      <th>3</th>\n",
       "      <td>4</td>\n",
       "      <td>70</td>\n",
       "      <td>RL</td>\n",
       "      <td>60.0</td>\n",
       "      <td>9550</td>\n",
       "      <td>Pave</td>\n",
       "      <td>IR1</td>\n",
       "      <td>Lvl</td>\n",
       "      <td>AllPub</td>\n",
       "      <td>Corner</td>\n",
       "      <td>...</td>\n",
       "      <td>272</td>\n",
       "      <td>0</td>\n",
       "      <td>0</td>\n",
       "      <td>0</td>\n",
       "      <td>0</td>\n",
       "      <td>2</td>\n",
       "      <td>2006</td>\n",
       "      <td>WD</td>\n",
       "      <td>Abnorml</td>\n",
       "      <td>140000</td>\n",
       "    </tr>\n",
       "    <tr>\n",
       "      <th>4</th>\n",
       "      <td>5</td>\n",
       "      <td>60</td>\n",
       "      <td>RL</td>\n",
       "      <td>84.0</td>\n",
       "      <td>14260</td>\n",
       "      <td>Pave</td>\n",
       "      <td>IR1</td>\n",
       "      <td>Lvl</td>\n",
       "      <td>AllPub</td>\n",
       "      <td>FR2</td>\n",
       "      <td>...</td>\n",
       "      <td>0</td>\n",
       "      <td>0</td>\n",
       "      <td>0</td>\n",
       "      <td>0</td>\n",
       "      <td>0</td>\n",
       "      <td>12</td>\n",
       "      <td>2008</td>\n",
       "      <td>WD</td>\n",
       "      <td>Normal</td>\n",
       "      <td>250000</td>\n",
       "    </tr>\n",
       "  </tbody>\n",
       "</table>\n",
       "<p>5 rows × 77 columns</p>\n",
       "</div>"
      ],
      "text/plain": [
       "   Id  MSSubClass MSZoning  LotFrontage  LotArea Street LotShape LandContour  \\\n",
       "0   1          60       RL         65.0     8450   Pave      Reg         Lvl   \n",
       "1   2          20       RL         80.0     9600   Pave      Reg         Lvl   \n",
       "2   3          60       RL         68.0    11250   Pave      IR1         Lvl   \n",
       "3   4          70       RL         60.0     9550   Pave      IR1         Lvl   \n",
       "4   5          60       RL         84.0    14260   Pave      IR1         Lvl   \n",
       "\n",
       "  Utilities LotConfig  ... EnclosedPorch 3SsnPorch ScreenPorch PoolArea  \\\n",
       "0    AllPub    Inside  ...             0         0           0        0   \n",
       "1    AllPub       FR2  ...             0         0           0        0   \n",
       "2    AllPub    Inside  ...             0         0           0        0   \n",
       "3    AllPub    Corner  ...           272         0           0        0   \n",
       "4    AllPub       FR2  ...             0         0           0        0   \n",
       "\n",
       "  MiscVal MoSold  YrSold  SaleType  SaleCondition  SalePrice  \n",
       "0       0      2    2008        WD         Normal     208500  \n",
       "1       0      5    2007        WD         Normal     181500  \n",
       "2       0      9    2008        WD         Normal     223500  \n",
       "3       0      2    2006        WD        Abnorml     140000  \n",
       "4       0     12    2008        WD         Normal     250000  \n",
       "\n",
       "[5 rows x 77 columns]"
      ]
     },
     "execution_count": 18,
     "metadata": {},
     "output_type": "execute_result"
    }
   ],
   "source": [
    "house_train.head()"
   ]
  },
  {
   "cell_type": "code",
   "execution_count": 22,
   "metadata": {},
   "outputs": [],
   "source": [
    "test=pd.read_csv(\"trail_1_test\")\n",
    "test.drop(\"Unnamed: 0\",axis=1,inplace=True)"
   ]
  },
  {
   "cell_type": "code",
   "execution_count": 23,
   "metadata": {},
   "outputs": [],
   "source": [
    "final_data=pd.concat([house_train,test],axis=0)"
   ]
  },
  {
   "cell_type": "code",
   "execution_count": 24,
   "metadata": {},
   "outputs": [],
   "source": [
    "columns=['MSZoning','Street','LotShape','LandContour','Utilities','LotConfig','LandSlope','Neighborhood',\n",
    "         'Condition2','BldgType','Condition1','HouseStyle','SaleType',\n",
    "        'SaleCondition','ExterCond',\n",
    "         'ExterQual','Foundation','BsmtQual','BsmtCond','BsmtExposure','BsmtFinType1','BsmtFinType2',\n",
    "        'RoofStyle','RoofMatl','Exterior1st','Exterior2nd','MasVnrType','Heating','HeatingQC',\n",
    "         'CentralAir',\n",
    "         'Electrical','KitchenQual','Functional',\n",
    "         'FireplaceQu','GarageType','GarageFinish','GarageQual','GarageCond','PavedDrive']"
   ]
  },
  {
   "cell_type": "code",
   "execution_count": 25,
   "metadata": {},
   "outputs": [],
   "source": [
    "def category_onehot_multcols(multcolumns):\n",
    "    df_final=final_data\n",
    "    i=0\n",
    "    for fields in multcolumns:\n",
    "        \n",
    "        print(fields)\n",
    "        df1=pd.get_dummies(final_data[fields],drop_first=True)\n",
    "        \n",
    "        final_data.drop([fields],axis=1,inplace=True)\n",
    "        if i==0:\n",
    "            df_final=df1.copy()\n",
    "        else:\n",
    "            \n",
    "            df_final=pd.concat([df_final,df1],axis=1)\n",
    "        i=i+1\n",
    "       \n",
    "        \n",
    "    df_final=pd.concat([final_data,df_final],axis=1)\n",
    "        \n",
    "    return df_final"
   ]
  },
  {
   "cell_type": "code",
   "execution_count": 26,
   "metadata": {},
   "outputs": [
    {
     "name": "stdout",
     "output_type": "stream",
     "text": [
      "MSZoning\n",
      "Street\n",
      "LotShape\n",
      "LandContour\n",
      "Utilities\n",
      "LotConfig\n",
      "LandSlope\n",
      "Neighborhood\n",
      "Condition2\n",
      "BldgType\n",
      "Condition1\n",
      "HouseStyle\n",
      "SaleType\n",
      "SaleCondition\n",
      "ExterCond\n",
      "ExterQual\n",
      "Foundation\n",
      "BsmtQual\n",
      "BsmtCond\n",
      "BsmtExposure\n",
      "BsmtFinType1\n",
      "BsmtFinType2\n",
      "RoofStyle\n",
      "RoofMatl\n",
      "Exterior1st\n",
      "Exterior2nd\n",
      "MasVnrType\n",
      "Heating\n",
      "HeatingQC\n",
      "CentralAir\n",
      "Electrical\n",
      "KitchenQual\n",
      "Functional\n",
      "FireplaceQu\n",
      "GarageType\n",
      "GarageFinish\n",
      "GarageQual\n",
      "GarageCond\n",
      "PavedDrive\n"
     ]
    }
   ],
   "source": [
    "final_df=category_onehot_multcols(columns)"
   ]
  },
  {
   "cell_type": "code",
   "execution_count": 31,
   "metadata": {},
   "outputs": [
    {
     "data": {
      "text/plain": [
       "(2918, 178)"
      ]
     },
     "execution_count": 31,
     "metadata": {},
     "output_type": "execute_result"
    }
   ],
   "source": [
    "final_df =final_df.loc[:,~final_df.columns.duplicated()]\n",
    "final_df.shape"
   ]
  },
  {
   "cell_type": "code",
   "execution_count": 59,
   "metadata": {},
   "outputs": [],
   "source": [
    "train_data=final_df.iloc[:1459,:]\n",
    "test_data=final_df.iloc[1459:,:]\n",
    "test_data.shape\n",
    "test_data=test_data.drop('SalePrice',axis=1)"
   ]
  },
  {
   "cell_type": "code",
   "execution_count": 60,
   "metadata": {},
   "outputs": [
    {
     "data": {
      "text/plain": [
       "(1459, 177)"
      ]
     },
     "execution_count": 60,
     "metadata": {},
     "output_type": "execute_result"
    }
   ],
   "source": [
    "x=train_data.drop(\"SalePrice\",axis=1)\n",
    "y=train_data['SalePrice']\n",
    "x.shape"
   ]
  },
  {
   "cell_type": "markdown",
   "metadata": {},
   "source": [
    "# CNN score= 0.16495"
   ]
  },
  {
   "cell_type": "raw",
   "metadata": {},
   "source": [
    "for adam epoch=1000 scoring=0.16495\n",
    "for adamax epoch=100 scoring= 0.21179\n",
    "fro adagrad epoch=100 scoring=0.34271\n",
    "for adam epoch=100 dropout=0.5 scoring=0.82230"
   ]
  },
  {
   "cell_type": "code",
   "execution_count": 114,
   "metadata": {},
   "outputs": [],
   "source": [
    "from keras.models import Sequential\n",
    "from keras.layers import Dense,Dropout\n",
    "from keras.optimizers import Adam,Adamax,Adagrad"
   ]
  },
  {
   "cell_type": "code",
   "execution_count": 115,
   "metadata": {},
   "outputs": [],
   "source": [
    "clf=Sequential()"
   ]
  },
  {
   "cell_type": "code",
   "execution_count": 116,
   "metadata": {},
   "outputs": [],
   "source": [
    "clf.add(Dense(units=50,kernel_initializer='he_uniform',activation='relu',input_dim=177))"
   ]
  },
  {
   "cell_type": "code",
   "execution_count": 117,
   "metadata": {},
   "outputs": [],
   "source": [
    "clf.add(Dense(units=25,kernel_initializer='he_uniform',activation='relu'))\n",
    "clf.add(Dropout(0.5))\n",
    "clf.add(Dense(units=50,kernel_initializer='he_uniform',activation='relu'))\n",
    "clf.add(Dropout(0.5))\n",
    "clf.add(Dense(units=1,kernel_initializer='he_uniform'))"
   ]
  },
  {
   "cell_type": "code",
   "execution_count": 118,
   "metadata": {},
   "outputs": [],
   "source": [
    "clf.compile(optimizer='Adam',loss='mean_squared_error')"
   ]
  },
  {
   "cell_type": "code",
   "execution_count": 119,
   "metadata": {},
   "outputs": [
    {
     "name": "stdout",
     "output_type": "stream",
     "text": [
      "Epoch 1/100\n",
      "117/117 [==============================] - 1s 7ms/step - loss: 32184680448.0000 - val_loss: 12137803776.0000\n",
      "Epoch 2/100\n",
      "117/117 [==============================] - 1s 7ms/step - loss: 11416253440.0000 - val_loss: 7226258944.0000\n",
      "Epoch 3/100\n",
      "117/117 [==============================] - 1s 6ms/step - loss: 9091291136.0000 - val_loss: 5623297024.0000\n",
      "Epoch 4/100\n",
      "117/117 [==============================] - 1s 6ms/step - loss: 9201181696.0000 - val_loss: 5114606080.0000\n",
      "Epoch 5/100\n",
      "117/117 [==============================] - 1s 7ms/step - loss: 7588612608.0000 - val_loss: 4495080960.0000\n",
      "Epoch 6/100\n",
      "117/117 [==============================] - 1s 6ms/step - loss: 7673719808.0000 - val_loss: 4709729792.0000\n",
      "Epoch 7/100\n",
      "117/117 [==============================] - 1s 7ms/step - loss: 6835150336.0000 - val_loss: 3855981568.0000\n",
      "Epoch 8/100\n",
      "117/117 [==============================] - 1s 7ms/step - loss: 6197666304.0000 - val_loss: 4455070208.0000\n",
      "Epoch 9/100\n",
      "117/117 [==============================] - 1s 8ms/step - loss: 6460157440.0000 - val_loss: 5264046592.0000\n",
      "Epoch 10/100\n",
      "117/117 [==============================] - 1s 7ms/step - loss: 5318408192.0000 - val_loss: 4443628544.0000\n",
      "Epoch 11/100\n",
      "117/117 [==============================] - 1s 7ms/step - loss: 5460887040.0000 - val_loss: 3928161024.0000\n",
      "Epoch 12/100\n",
      "117/117 [==============================] - 1s 9ms/step - loss: 5342657024.0000 - val_loss: 4893601792.0000\n",
      "Epoch 13/100\n",
      "117/117 [==============================] - 1s 8ms/step - loss: 5553715200.0000 - val_loss: 5100670464.0000\n",
      "Epoch 14/100\n",
      "117/117 [==============================] - 1s 9ms/step - loss: 5030268928.0000 - val_loss: 5140434944.0000\n",
      "Epoch 15/100\n",
      "117/117 [==============================] - 1s 6ms/step - loss: 5073271296.0000 - val_loss: 5043419136.0000\n",
      "Epoch 16/100\n",
      "117/117 [==============================] - 1s 10ms/step - loss: 4694450176.0000 - val_loss: 4753381888.0000\n",
      "Epoch 17/100\n",
      "117/117 [==============================] - 1s 7ms/step - loss: 4429072896.0000 - val_loss: 5849346560.0000\n",
      "Epoch 18/100\n",
      "117/117 [==============================] - 1s 7ms/step - loss: 4653704704.0000 - val_loss: 5317993472.0000\n",
      "Epoch 19/100\n",
      "117/117 [==============================] - 1s 7ms/step - loss: 4623430144.0000 - val_loss: 6280999424.0000\n",
      "Epoch 20/100\n",
      "117/117 [==============================] - 1s 6ms/step - loss: 4589472768.0000 - val_loss: 5895684096.0000\n",
      "Epoch 21/100\n",
      "117/117 [==============================] - 1s 7ms/step - loss: 4509839360.0000 - val_loss: 8232645632.0000\n",
      "Epoch 22/100\n",
      "117/117 [==============================] - 1s 6ms/step - loss: 4445402624.0000 - val_loss: 6765611008.0000\n",
      "Epoch 23/100\n",
      "117/117 [==============================] - 1s 7ms/step - loss: 4405069824.0000 - val_loss: 6876241920.0000\n",
      "Epoch 24/100\n",
      "117/117 [==============================] - 1s 8ms/step - loss: 4162730752.0000 - val_loss: 8111180800.0000\n",
      "Epoch 25/100\n",
      "117/117 [==============================] - 1s 5ms/step - loss: 4363364864.0000 - val_loss: 7242097152.0000\n",
      "Epoch 26/100\n",
      "117/117 [==============================] - 1s 8ms/step - loss: 4589461504.0000 - val_loss: 8240685056.0000\n",
      "Epoch 27/100\n",
      "117/117 [==============================] - 1s 7ms/step - loss: 4144173568.0000 - val_loss: 7211846656.0000\n",
      "Epoch 28/100\n",
      "117/117 [==============================] - 1s 8ms/step - loss: 4880326144.0000 - val_loss: 10017813504.0000\n",
      "Epoch 29/100\n",
      "117/117 [==============================] - 1s 8ms/step - loss: 3887334400.0000 - val_loss: 9195786240.0000\n",
      "Epoch 30/100\n",
      "117/117 [==============================] - 1s 6ms/step - loss: 4146567168.0000 - val_loss: 7429968896.0000\n",
      "Epoch 31/100\n",
      "117/117 [==============================] - 1s 7ms/step - loss: 4109745920.0000 - val_loss: 9367866368.0000\n",
      "Epoch 32/100\n",
      "117/117 [==============================] - 1s 7ms/step - loss: 3966384384.0000 - val_loss: 11356452864.0000\n",
      "Epoch 33/100\n",
      "117/117 [==============================] - 1s 5ms/step - loss: 4090969344.0000 - val_loss: 12636975104.0000\n",
      "Epoch 34/100\n",
      "117/117 [==============================] - 1s 7ms/step - loss: 4078195200.0000 - val_loss: 10157115392.0000\n",
      "Epoch 35/100\n",
      "117/117 [==============================] - 1s 7ms/step - loss: 3790397440.0000 - val_loss: 10527255552.0000\n",
      "Epoch 36/100\n",
      "117/117 [==============================] - 1s 8ms/step - loss: 3735772416.0000 - val_loss: 11750497280.0000\n",
      "Epoch 37/100\n",
      "117/117 [==============================] - 1s 7ms/step - loss: 3548779776.0000 - val_loss: 11202134016.0000\n",
      "Epoch 38/100\n",
      "117/117 [==============================] - 1s 6ms/step - loss: 3819028480.0000 - val_loss: 12697955328.0000\n",
      "Epoch 39/100\n",
      "117/117 [==============================] - 1s 6ms/step - loss: 4112702464.0000 - val_loss: 13614317568.0000\n",
      "Epoch 40/100\n",
      "117/117 [==============================] - 1s 6ms/step - loss: 3635137792.0000 - val_loss: 13466923008.0000\n",
      "Epoch 41/100\n",
      "117/117 [==============================] - 1s 6ms/step - loss: 3982461952.0000 - val_loss: 12935318528.0000\n",
      "Epoch 42/100\n",
      "117/117 [==============================] - 1s 7ms/step - loss: 3822227200.0000 - val_loss: 13558157312.0000\n",
      "Epoch 43/100\n",
      "117/117 [==============================] - 1s 7ms/step - loss: 3834647040.0000 - val_loss: 13294014464.0000\n",
      "Epoch 44/100\n",
      "117/117 [==============================] - 1s 7ms/step - loss: 4014341632.0000 - val_loss: 11181124608.0000\n",
      "Epoch 45/100\n",
      "117/117 [==============================] - 1s 7ms/step - loss: 3832013312.0000 - val_loss: 12833156096.0000\n",
      "Epoch 46/100\n",
      "117/117 [==============================] - 1s 7ms/step - loss: 3961530368.0000 - val_loss: 13945139200.0000\n",
      "Epoch 47/100\n",
      "117/117 [==============================] - 1s 7ms/step - loss: 3678219776.0000 - val_loss: 12006242304.0000\n",
      "Epoch 48/100\n",
      "117/117 [==============================] - 1s 7ms/step - loss: 3441917440.0000 - val_loss: 12187360256.0000\n",
      "Epoch 49/100\n",
      "117/117 [==============================] - 1s 6ms/step - loss: 3816707072.0000 - val_loss: 10693783552.0000\n",
      "Epoch 50/100\n",
      "117/117 [==============================] - 1s 6ms/step - loss: 4072875008.0000 - val_loss: 11303490560.0000\n",
      "Epoch 51/100\n",
      "117/117 [==============================] - 1s 7ms/step - loss: 4179494656.0000 - val_loss: 12229639168.0000\n",
      "Epoch 52/100\n",
      "117/117 [==============================] - 1s 7ms/step - loss: 3550500608.0000 - val_loss: 11973493760.0000\n",
      "Epoch 53/100\n",
      "117/117 [==============================] - 1s 7ms/step - loss: 3887874048.0000 - val_loss: 12156360704.0000\n",
      "Epoch 54/100\n",
      "117/117 [==============================] - 1s 7ms/step - loss: 4108487424.0000 - val_loss: 12278137856.0000\n",
      "Epoch 55/100\n",
      "117/117 [==============================] - 1s 7ms/step - loss: 3457881856.0000 - val_loss: 13848242176.0000\n",
      "Epoch 56/100\n",
      "117/117 [==============================] - 1s 11ms/step - loss: 3903958016.0000 - val_loss: 13154236416.0000\n",
      "Epoch 57/100\n",
      "117/117 [==============================] - 2s 13ms/step - loss: 3603368448.0000 - val_loss: 13598359552.0000\n",
      "Epoch 58/100\n",
      "117/117 [==============================] - 2s 14ms/step - loss: 3577488128.0000 - val_loss: 12333527040.0000\n",
      "Epoch 59/100\n",
      "117/117 [==============================] - 1s 9ms/step - loss: 3631835136.0000 - val_loss: 12896958464.0000\n",
      "Epoch 60/100\n",
      "117/117 [==============================] - 1s 9ms/step - loss: 3875920128.0000 - val_loss: 12729094144.0000\n",
      "Epoch 61/100\n",
      "117/117 [==============================] - 1s 9ms/step - loss: 3788084992.0000 - val_loss: 12471748608.0000\n",
      "Epoch 62/100\n",
      "117/117 [==============================] - 1s 7ms/step - loss: 3391466496.0000 - val_loss: 11417155584.0000\n",
      "Epoch 63/100\n",
      "117/117 [==============================] - 1s 7ms/step - loss: 3750483968.0000 - val_loss: 13078171648.0000\n",
      "Epoch 64/100\n",
      "117/117 [==============================] - 1s 6ms/step - loss: 3501695488.0000 - val_loss: 11966107648.0000\n",
      "Epoch 65/100\n",
      "117/117 [==============================] - 1s 8ms/step - loss: 3510110208.0000 - val_loss: 13670169600.0000\n",
      "Epoch 66/100\n",
      "117/117 [==============================] - 1s 7ms/step - loss: 3481220096.0000 - val_loss: 11107894272.0000\n",
      "Epoch 67/100\n",
      "117/117 [==============================] - 1s 7ms/step - loss: 3699973120.0000 - val_loss: 12366508032.0000\n",
      "Epoch 68/100\n",
      "117/117 [==============================] - 1s 6ms/step - loss: 3263235840.0000 - val_loss: 11861626880.0000\n"
     ]
    },
    {
     "name": "stdout",
     "output_type": "stream",
     "text": [
      "Epoch 69/100\n",
      "117/117 [==============================] - 1s 8ms/step - loss: 3818173952.0000 - val_loss: 13269400576.0000\n",
      "Epoch 70/100\n",
      "117/117 [==============================] - 1s 7ms/step - loss: 3864606464.0000 - val_loss: 12432028672.0000\n",
      "Epoch 71/100\n",
      "117/117 [==============================] - 1s 6ms/step - loss: 3708299264.0000 - val_loss: 13950962688.0000\n",
      "Epoch 72/100\n",
      "117/117 [==============================] - 1s 6ms/step - loss: 3370516480.0000 - val_loss: 12930488320.0000\n",
      "Epoch 73/100\n",
      "117/117 [==============================] - 1s 7ms/step - loss: 3206311936.0000 - val_loss: 13154186240.0000\n",
      "Epoch 74/100\n",
      "117/117 [==============================] - 1s 5ms/step - loss: 3871539712.0000 - val_loss: 12849309696.0000\n",
      "Epoch 75/100\n",
      "117/117 [==============================] - 1s 6ms/step - loss: 3269346304.0000 - val_loss: 12554821632.0000\n",
      "Epoch 76/100\n",
      "117/117 [==============================] - 1s 6ms/step - loss: 3964516608.0000 - val_loss: 15670808576.0000\n",
      "Epoch 77/100\n",
      "117/117 [==============================] - 1s 6ms/step - loss: 4320179200.0000 - val_loss: 12668346368.0000\n",
      "Epoch 78/100\n",
      "117/117 [==============================] - 1s 6ms/step - loss: 3639384832.0000 - val_loss: 11826459648.0000\n",
      "Epoch 79/100\n",
      "117/117 [==============================] - 1s 6ms/step - loss: 3829630464.0000 - val_loss: 11511961600.0000\n",
      "Epoch 80/100\n",
      "117/117 [==============================] - 1s 6ms/step - loss: 4015134976.0000 - val_loss: 13495014400.0000\n",
      "Epoch 81/100\n",
      "117/117 [==============================] - 1s 6ms/step - loss: 3456985600.0000 - val_loss: 11816122368.0000\n",
      "Epoch 82/100\n",
      "117/117 [==============================] - 1s 6ms/step - loss: 3443817728.0000 - val_loss: 12923839488.0000\n",
      "Epoch 83/100\n",
      "117/117 [==============================] - 1s 6ms/step - loss: 3989240064.0000 - val_loss: 13417468928.0000\n",
      "Epoch 84/100\n",
      "117/117 [==============================] - 1s 7ms/step - loss: 3971689216.0000 - val_loss: 12466524160.0000\n",
      "Epoch 85/100\n",
      "117/117 [==============================] - 1s 6ms/step - loss: 3490225152.0000 - val_loss: 12337990656.0000\n",
      "Epoch 86/100\n",
      "117/117 [==============================] - 1s 6ms/step - loss: 3267485184.0000 - val_loss: 11196157952.0000\n",
      "Epoch 87/100\n",
      "117/117 [==============================] - 1s 7ms/step - loss: 3627785984.0000 - val_loss: 11399717888.0000\n",
      "Epoch 88/100\n",
      "117/117 [==============================] - 1s 7ms/step - loss: 3697801472.0000 - val_loss: 12951009280.0000\n",
      "Epoch 89/100\n",
      "117/117 [==============================] - 1s 6ms/step - loss: 3551690496.0000 - val_loss: 12443262976.0000\n",
      "Epoch 90/100\n",
      "117/117 [==============================] - 1s 6ms/step - loss: 3902961152.0000 - val_loss: 14649378816.0000\n",
      "Epoch 91/100\n",
      "117/117 [==============================] - 1s 5ms/step - loss: 3588477184.0000 - val_loss: 13103579136.0000\n",
      "Epoch 92/100\n",
      "117/117 [==============================] - 1s 6ms/step - loss: 3719024128.0000 - val_loss: 14496535552.0000\n",
      "Epoch 93/100\n",
      "117/117 [==============================] - 1s 7ms/step - loss: 3788264192.0000 - val_loss: 12387102720.0000\n",
      "Epoch 94/100\n",
      "117/117 [==============================] - 1s 6ms/step - loss: 3677858816.0000 - val_loss: 11782267904.0000\n",
      "Epoch 95/100\n",
      "117/117 [==============================] - 1s 6ms/step - loss: 4080043264.0000 - val_loss: 13041732608.0000\n",
      "Epoch 96/100\n",
      "117/117 [==============================] - 1s 7ms/step - loss: 3556310528.0000 - val_loss: 13359662080.0000\n",
      "Epoch 97/100\n",
      "117/117 [==============================] - 1s 6ms/step - loss: 3504323584.0000 - val_loss: 11501413376.0000\n",
      "Epoch 98/100\n",
      "117/117 [==============================] - 1s 6ms/step - loss: 3650773504.0000 - val_loss: 12073606144.0000\n",
      "Epoch 99/100\n",
      "117/117 [==============================] - 1s 6ms/step - loss: 3646870016.0000 - val_loss: 12678786048.0000\n",
      "Epoch 100/100\n",
      "117/117 [==============================] - 1s 6ms/step - loss: 3311719680.0000 - val_loss: 13245060096.0000\n"
     ]
    },
    {
     "data": {
      "text/plain": [
       "<tensorflow.python.keras.callbacks.History at 0x23afa7a7b88>"
      ]
     },
     "execution_count": 119,
     "metadata": {},
     "output_type": "execute_result"
    }
   ],
   "source": [
    "clf.fit(x,y,batch_size=10,epochs=100,validation_split=0.20)"
   ]
  },
  {
   "cell_type": "code",
   "execution_count": 120,
   "metadata": {},
   "outputs": [],
   "source": [
    "pred_cnn=clf.predict(test_data)"
   ]
  },
  {
   "cell_type": "code",
   "execution_count": 121,
   "metadata": {},
   "outputs": [],
   "source": [
    "pred_cnn=pd.DataFrame(pred_cnn)"
   ]
  },
  {
   "cell_type": "markdown",
   "metadata": {},
   "source": [
    "# sample data"
   ]
  },
  {
   "cell_type": "code",
   "execution_count": 122,
   "metadata": {},
   "outputs": [],
   "source": [
    "sample=pd.read_csv(\"sample_submission.csv\")"
   ]
  },
  {
   "cell_type": "code",
   "execution_count": 123,
   "metadata": {},
   "outputs": [],
   "source": [
    "dat=pd.concat([sample['Id'],pred_cnn],axis=1)"
   ]
  },
  {
   "cell_type": "code",
   "execution_count": 124,
   "metadata": {},
   "outputs": [
    {
     "data": {
      "text/plain": [
       "(1459, 2)"
      ]
     },
     "execution_count": 124,
     "metadata": {},
     "output_type": "execute_result"
    }
   ],
   "source": [
    "dat.shape"
   ]
  },
  {
   "cell_type": "code",
   "execution_count": 125,
   "metadata": {},
   "outputs": [],
   "source": [
    "dat.columns=['Id','SalePrice']"
   ]
  },
  {
   "cell_type": "code",
   "execution_count": 126,
   "metadata": {},
   "outputs": [
    {
     "data": {
      "text/html": [
       "<div>\n",
       "<style scoped>\n",
       "    .dataframe tbody tr th:only-of-type {\n",
       "        vertical-align: middle;\n",
       "    }\n",
       "\n",
       "    .dataframe tbody tr th {\n",
       "        vertical-align: top;\n",
       "    }\n",
       "\n",
       "    .dataframe thead th {\n",
       "        text-align: right;\n",
       "    }\n",
       "</style>\n",
       "<table border=\"1\" class=\"dataframe\">\n",
       "  <thead>\n",
       "    <tr style=\"text-align: right;\">\n",
       "      <th></th>\n",
       "      <th>Id</th>\n",
       "      <th>SalePrice</th>\n",
       "    </tr>\n",
       "  </thead>\n",
       "  <tbody>\n",
       "    <tr>\n",
       "      <th>0</th>\n",
       "      <td>1461</td>\n",
       "      <td>67531.968750</td>\n",
       "    </tr>\n",
       "    <tr>\n",
       "      <th>1</th>\n",
       "      <td>1462</td>\n",
       "      <td>89227.421875</td>\n",
       "    </tr>\n",
       "    <tr>\n",
       "      <th>2</th>\n",
       "      <td>1463</td>\n",
       "      <td>84225.414062</td>\n",
       "    </tr>\n",
       "    <tr>\n",
       "      <th>3</th>\n",
       "      <td>1464</td>\n",
       "      <td>85678.750000</td>\n",
       "    </tr>\n",
       "    <tr>\n",
       "      <th>4</th>\n",
       "      <td>1465</td>\n",
       "      <td>77740.078125</td>\n",
       "    </tr>\n",
       "  </tbody>\n",
       "</table>\n",
       "</div>"
      ],
      "text/plain": [
       "     Id     SalePrice\n",
       "0  1461  67531.968750\n",
       "1  1462  89227.421875\n",
       "2  1463  84225.414062\n",
       "3  1464  85678.750000\n",
       "4  1465  77740.078125"
      ]
     },
     "execution_count": 126,
     "metadata": {},
     "output_type": "execute_result"
    }
   ],
   "source": [
    "dat.head()"
   ]
  },
  {
   "cell_type": "code",
   "execution_count": 127,
   "metadata": {},
   "outputs": [],
   "source": [
    "dat.to_csv(\"kaggle_CNN_model\",index=False)"
   ]
  },
  {
   "cell_type": "markdown",
   "metadata": {},
   "source": [
    "# HyperParameter Tuning"
   ]
  },
  {
   "cell_type": "code",
   "execution_count": 128,
   "metadata": {},
   "outputs": [],
   "source": [
    "# with batch size of 16,32,34\n",
    "# epoch 50,100\n",
    "# learning rate 0.01 0.001 0.0001\n",
    "# kernel_initializer he uniform glorotUniform\n",
    "# optimizer Adam Adamax Adagrad"
   ]
  },
  {
   "cell_type": "code",
   "execution_count": null,
   "metadata": {},
   "outputs": [],
   "source": []
  }
 ],
 "metadata": {
  "kernelspec": {
   "display_name": "Python 3",
   "language": "python",
   "name": "python3"
  },
  "language_info": {
   "codemirror_mode": {
    "name": "ipython",
    "version": 3
   },
   "file_extension": ".py",
   "mimetype": "text/x-python",
   "name": "python",
   "nbconvert_exporter": "python",
   "pygments_lexer": "ipython3",
   "version": "3.7.5"
  }
 },
 "nbformat": 4,
 "nbformat_minor": 4
}
